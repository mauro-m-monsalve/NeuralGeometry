








import os
import sys

# Set the root directory

# Automatically find the project root (directory containing 'src' or 'data')
def find_project_root(marker_dirs=("src", "data","notebooks")):
    path = os.getcwd()
    while path != "/" and not all(os.path.exists(os.path.join(path, d)) for d in marker_dirs):
        path = os.path.dirname(path)
    return path

PROJECT_ROOT = find_project_root()

# Set up Python import path and working directory
sys.path.append(os.path.join(PROJECT_ROOT, "src"))
os.chdir(PROJECT_ROOT)

print("Project root:", PROJECT_ROOT)





# Download/load data
# Also sets the working session

from io_utils import download_session
from src.io_utils import load_dataframe_with_metadata

session = "S6"
path = download_session(session)
df = load_dataframe_with_metadata(session)








from scipy.ndimage import gaussian_filter1d
import numpy as np

# Crop time and align trials LFADS
Cut = 20     # time steps (10ms bins) after dotsOn to trim start
CutEnd = -6  # time steps before saccadeDetected to trim end
sigma = 5    # smoothing kernel width

# Smooth LFADS trajectories
for trial in df.index:
    df.at[trial, 'LFADS'] = gaussian_filter1d(df.at[trial, 'LFADS'], sigma=sigma, axis=1)

# Compute reference starting points for alignment
start_vectors = np.stack([df.at[trial, 'LFADS'][:, 0] for trial in df.index], axis=1)
mean_start = np.mean(start_vectors, axis=1, keepdims=True)

# Align and cut LFADS + store back
for trial in df.index:
    traj = df.at[trial, 'LFADS']
    aligned = traj[:, Cut:CutEnd] - traj[:, [0]] + mean_start
    df.at[trial, 'LFADS'] = aligned






from src.geometry import get_pca

principal = get_pca(df, column='LFADS', cells=None, components=10, plot=True)






from src.geometry import compute_geometry_measures

compute_geometry_measures(df, column='LFADS-PCA', timeres=10, arc_res=101)
df.keys()[-12:]





from src.geometry import local_average

speed_0 , nba_0 = local_average(df[df['choice']==0], column='Speed-Arc', behavioral_axis='RT', frac=0.5, ba_res=101, method='lowess', remove_outliers=0.01)
tortuosity_0 , nba_0 = local_average(df[df['choice']==0], column='Tortuosity-Arc', behavioral_axis='RT', frac=0.5, ba_res=101, method='lowess', remove_outliers=0.01)






from src.plot_utils import plot_local_average

plot_local_average(data=speed_0, behavioral_axis=nba_0, var_name='Speed (Hz/ms)').show()
plot_local_average(data=tortuosity_0, behavioral_axis=nba_0, var_name='Tortuosity').show()






from src.geometry import local_average

# choice 0 and 1 correspond to contralateral and ipsilateral choice respectively
pop_0 , nba_0 = local_average(df[df['choice']==0], column='LFADS-PCA-Arc', behavioral_axis='RT', frac=0.5, ba_res=101, method='lowess', remove_outliers=0.01)
pop_1 , nba_1 = local_average(df[df['choice']==1], column='LFADS-PCA-Arc', behavioral_axis='RT', frac=0.5, ba_res=101, method='lowess', remove_outliers=0.01)



from src.plot_utils import plot_local_average_pop

fig = plot_local_average_pop(
    manifolds=[pop_0, pop_1],
    behavioral_axes=[nba_0, nba_1],
    color_ranges=[("gray blue", "neon blue"), ("gray pink", "neon pink")],
    names=['Contralateral Choice', 'Ipsilateral Choice']
)
fig.show()
#fig.write_html('AverageManifold.html')





from src.geometry import K

distance_0 = np.linalg.norm(pop_0-pop_1,axis=0)
curvature_0 = 180/np.pi*np.stack([K(pop_0[:, :, i],w=1) for i in range(pop_0.shape[2])], axis=1)


from src.plot_utils import plot_local_average

plot_local_average(data=distance_0, behavioral_axis=nba_0/np.max(nba_0), var_name='Distance (Hz)',title='Local Distance between Choice-Submanifolds',ba_title='Reaction Time (normalized)').show()
plot_local_average(data=curvature_0, behavioral_axis=nba_0, var_name='Curvature (deg/Hz)',title='Submanifold Curvature in the Resolution Direction').show()






from src.geometry import tangent_space
from scipy.ndimage import gaussian_filter as gf2

# compute unit tangent vectors
t0 = tangent_space(pop_0, axis=1)
t1 = tangent_space(pop_1, axis=1)

dot = np.einsum('ntm,ntm->tm', t0, t1)
norms = np.linalg.norm(t0, axis=0) * np.linalg.norm(t1, axis=0)
norms[norms == 0] = np.nan 

# compute cosine similarity between unit tangent vectors
cosine_similarity = gf2(dot / norms, sigma=5)


from src.plot_utils import plot_local_average

plot_local_average(data=cosine_similarity, behavioral_axis=nba_0/np.max(nba_0), var_name='Cosine Similarity',title='Local Cosine Similarity between Choice-Submanifolds',ba_title='Reaction Time (normalized)').show()







# Compute squared components of projections of the single-trial unit tangent vectors
get_components








import importlib
import src.geometry  # First, import the module normally
import src.plot_utils

importlib.reload(src.geometry)  # Reload the module after editing
importlib.reload(src.plot_utils)  # Reload the module after editing




